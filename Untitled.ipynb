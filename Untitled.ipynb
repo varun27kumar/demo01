{
 "cells": [
  {
   "cell_type": "code",
   "execution_count": null,
   "id": "c6f8362c",
   "metadata": {},
   "outputs": [],
   "source": [
    "# Step 2 - EDA \n",
    "#_______________________________________________________________________________\n",
    "\n",
    "# EDA - Exploratory Data Analysis | Data Audit  | Quality check\n",
    "\n",
    "# After importing : Immediate step is to get the friendship with the data.\n",
    "\n",
    "# Regular available function\n",
    "\n",
    "#advt.shape      # R : dim()          What ? Why ?\n",
    "#advt.columns    # R : names()\n",
    "#advt.head(2)    # R : head()\n",
    "#advt.tail(2)    # R : tail()\n",
    "#advt.info()     # R : str()\n",
    "#advt.describe().T # R : summary()\n",
    "#advt.isnull().sum()"
   ]
  }
 ],
 "metadata": {
  "kernelspec": {
   "display_name": "Python 3 (ipykernel)",
   "language": "python",
   "name": "python3"
  },
  "language_info": {
   "codemirror_mode": {
    "name": "ipython",
    "version": 3
   },
   "file_extension": ".py",
   "mimetype": "text/x-python",
   "name": "python",
   "nbconvert_exporter": "python",
   "pygments_lexer": "ipython3",
   "version": "3.9.12"
  }
 },
 "nbformat": 4,
 "nbformat_minor": 5
}
